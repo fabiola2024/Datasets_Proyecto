{
 "cells": [
  {
   "cell_type": "markdown",
   "id": "b3183033",
   "metadata": {},
   "source": [
    "# EDA"
   ]
  },
  {
   "cell_type": "markdown",
   "id": "355d99f1",
   "metadata": {},
   "source": [
    "## Exploración"
   ]
  },
  {
   "cell_type": "markdown",
   "id": "42e05a0a",
   "metadata": {},
   "source": [
    "En esta sección se organizara y preparará los datos, para identificar fallos en la recogida, diseño evaluar, datos ausentes, identificar casos atípicos.\n",
    "\n",
    "Algunas preguntas para iniciar:\n",
    "\n",
    "¿Hay sesgos en los datos?\n",
    "\n",
    "¿Existen errores en la codificación de los datos?\n",
    "\n",
    "¿Cómo se presentan los datos y cuál es la mejor forma de visualizarlos?\n",
    "\n",
    "¿Exisisten datos atípicos(outliers)?¿Cuáles son? ¿Cómo tratarlos?\n",
    "\n",
    "¿Hay datos faltantes(missing) y cómo se deberían tratar?"
   ]
  },
  {
   "cell_type": "code",
   "execution_count": 1,
   "id": "642a43d8",
   "metadata": {},
   "outputs": [],
   "source": [
    "import pandas as pd\n",
    "data_arg=pd.read_csv('../data/---datos limpios/df_propiedades.csv')"
   ]
  },
  {
   "cell_type": "code",
   "execution_count": 2,
   "id": "2c763f0e",
   "metadata": {},
   "outputs": [
    {
     "data": {
      "text/html": [
       "<div>\n",
       "<style scoped>\n",
       "    .dataframe tbody tr th:only-of-type {\n",
       "        vertical-align: middle;\n",
       "    }\n",
       "\n",
       "    .dataframe tbody tr th {\n",
       "        vertical-align: top;\n",
       "    }\n",
       "\n",
       "    .dataframe thead th {\n",
       "        text-align: right;\n",
       "    }\n",
       "</style>\n",
       "<table border=\"1\" class=\"dataframe\">\n",
       "  <thead>\n",
       "    <tr style=\"text-align: right;\">\n",
       "      <th></th>\n",
       "      <th>localidad</th>\n",
       "      <th>id</th>\n",
       "      <th>ad_type</th>\n",
       "      <th>start_date</th>\n",
       "      <th>end_date</th>\n",
       "      <th>created_on</th>\n",
       "      <th>lat</th>\n",
       "      <th>lon</th>\n",
       "      <th>país</th>\n",
       "      <th>provincia</th>\n",
       "      <th>...</th>\n",
       "      <th>bathrooms</th>\n",
       "      <th>surface_total</th>\n",
       "      <th>surface_covered</th>\n",
       "      <th>price</th>\n",
       "      <th>currency</th>\n",
       "      <th>price_period</th>\n",
       "      <th>title</th>\n",
       "      <th>description</th>\n",
       "      <th>property_type</th>\n",
       "      <th>operation_type</th>\n",
       "    </tr>\n",
       "  </thead>\n",
       "  <tbody>\n",
       "    <tr>\n",
       "      <th>489213</th>\n",
       "      <td>Lomas de Zamora</td>\n",
       "      <td>5UWjPai+X8clbBP5dlA7nA==</td>\n",
       "      <td>Propiedad</td>\n",
       "      <td>2021-04-07</td>\n",
       "      <td>9999-12-31</td>\n",
       "      <td>2021-04-07</td>\n",
       "      <td>-34.775810</td>\n",
       "      <td>-58.378223</td>\n",
       "      <td>Argentina</td>\n",
       "      <td>Bs.As. G.B.A. Zona Sur</td>\n",
       "      <td>...</td>\n",
       "      <td>0.0</td>\n",
       "      <td>649.0</td>\n",
       "      <td>412.0</td>\n",
       "      <td>185000.0</td>\n",
       "      <td>USD</td>\n",
       "      <td>NaN</td>\n",
       "      <td>Venta Lote c/ mejoras</td>\n",
       "      <td>Venta Lote c/ mejoras medidas: 17,32 x 43. Sup...</td>\n",
       "      <td>Lote</td>\n",
       "      <td>Venta</td>\n",
       "    </tr>\n",
       "    <tr>\n",
       "      <th>603506</th>\n",
       "      <td>General San Martín</td>\n",
       "      <td>vLccDHPWOoiyZbQkdh9VXw==</td>\n",
       "      <td>Propiedad</td>\n",
       "      <td>2020-08-06</td>\n",
       "      <td>2020-09-02</td>\n",
       "      <td>2020-08-06</td>\n",
       "      <td>-34.549853</td>\n",
       "      <td>-58.550439</td>\n",
       "      <td>Argentina</td>\n",
       "      <td>Bs.As. G.B.A. Zona Norte</td>\n",
       "      <td>...</td>\n",
       "      <td>1.0</td>\n",
       "      <td>187.0</td>\n",
       "      <td>127.0</td>\n",
       "      <td>199000.0</td>\n",
       "      <td>USD</td>\n",
       "      <td>NaN</td>\n",
       "      <td>Local comercial al frente + vivienda</td>\n",
       "      <td>Corredor Responsable: Uno Bienes Raices SRL - ...</td>\n",
       "      <td>Local comercial</td>\n",
       "      <td>Venta</td>\n",
       "    </tr>\n",
       "    <tr>\n",
       "      <th>219611</th>\n",
       "      <td>Rosario</td>\n",
       "      <td>a1arREBkJTS6DXY5K0P02w==</td>\n",
       "      <td>Propiedad</td>\n",
       "      <td>2020-09-25</td>\n",
       "      <td>9999-12-31</td>\n",
       "      <td>2020-09-25</td>\n",
       "      <td>-32.953937</td>\n",
       "      <td>-60.635917</td>\n",
       "      <td>Argentina</td>\n",
       "      <td>Santa Fe</td>\n",
       "      <td>...</td>\n",
       "      <td>1.0</td>\n",
       "      <td>47.0</td>\n",
       "      <td>45.0</td>\n",
       "      <td>78000.0</td>\n",
       "      <td>USD</td>\n",
       "      <td>Mensual</td>\n",
       "      <td>Departamento - Centro</td>\n",
       "      <td>Scuba 38 - Laprida 1353 , Un dormitorio A estr...</td>\n",
       "      <td>Departamento</td>\n",
       "      <td>Venta</td>\n",
       "    </tr>\n",
       "    <tr>\n",
       "      <th>328610</th>\n",
       "      <td>Recoleta</td>\n",
       "      <td>k/bczvUNAmWb/4tHPH5WmA==</td>\n",
       "      <td>Propiedad</td>\n",
       "      <td>2021-01-25</td>\n",
       "      <td>9999-12-31</td>\n",
       "      <td>2021-01-25</td>\n",
       "      <td>-34.594781</td>\n",
       "      <td>-58.401736</td>\n",
       "      <td>Argentina</td>\n",
       "      <td>Capital Federal</td>\n",
       "      <td>...</td>\n",
       "      <td>3.0</td>\n",
       "      <td>203.0</td>\n",
       "      <td>203.0</td>\n",
       "      <td>440000.0</td>\n",
       "      <td>USD</td>\n",
       "      <td>Mensual</td>\n",
       "      <td>Av. Santa Fe y Pueyrredon - Recoleta - Capital...</td>\n",
       "      <td>Piso de 6 ambientes en excelente zona:&lt;br&gt;- 20...</td>\n",
       "      <td>Departamento</td>\n",
       "      <td>Venta</td>\n",
       "    </tr>\n",
       "    <tr>\n",
       "      <th>525868</th>\n",
       "      <td>Godoy Cruz</td>\n",
       "      <td>sG3WvuTR2wiosAB8LD0/pA==</td>\n",
       "      <td>Propiedad</td>\n",
       "      <td>2020-10-26</td>\n",
       "      <td>2020-12-23</td>\n",
       "      <td>2020-10-26</td>\n",
       "      <td>-32.953783</td>\n",
       "      <td>-68.855484</td>\n",
       "      <td>Argentina</td>\n",
       "      <td>Mendoza</td>\n",
       "      <td>...</td>\n",
       "      <td>0.0</td>\n",
       "      <td>649.0</td>\n",
       "      <td>412.0</td>\n",
       "      <td>450000.0</td>\n",
       "      <td>USD</td>\n",
       "      <td>NaN</td>\n",
       "      <td>Espectacular oportunidad de inversión</td>\n",
       "      <td>&lt;b&gt;Espectacular oportunidad de inversión&lt;/b&gt;&lt;b...</td>\n",
       "      <td>Lote</td>\n",
       "      <td>Venta</td>\n",
       "    </tr>\n",
       "  </tbody>\n",
       "</table>\n",
       "<p>5 rows × 22 columns</p>\n",
       "</div>"
      ],
      "text/plain": [
       "                 localidad                        id    ad_type  start_date  \\\n",
       "489213     Lomas de Zamora  5UWjPai+X8clbBP5dlA7nA==  Propiedad  2021-04-07   \n",
       "603506  General San Martín  vLccDHPWOoiyZbQkdh9VXw==  Propiedad  2020-08-06   \n",
       "219611             Rosario  a1arREBkJTS6DXY5K0P02w==  Propiedad  2020-09-25   \n",
       "328610            Recoleta  k/bczvUNAmWb/4tHPH5WmA==  Propiedad  2021-01-25   \n",
       "525868          Godoy Cruz  sG3WvuTR2wiosAB8LD0/pA==  Propiedad  2020-10-26   \n",
       "\n",
       "          end_date  created_on        lat        lon       país  \\\n",
       "489213  9999-12-31  2021-04-07 -34.775810 -58.378223  Argentina   \n",
       "603506  2020-09-02  2020-08-06 -34.549853 -58.550439  Argentina   \n",
       "219611  9999-12-31  2020-09-25 -32.953937 -60.635917  Argentina   \n",
       "328610  9999-12-31  2021-01-25 -34.594781 -58.401736  Argentina   \n",
       "525868  2020-12-23  2020-10-26 -32.953783 -68.855484  Argentina   \n",
       "\n",
       "                       provincia  ...  bathrooms  surface_total  \\\n",
       "489213    Bs.As. G.B.A. Zona Sur  ...        0.0          649.0   \n",
       "603506  Bs.As. G.B.A. Zona Norte  ...        1.0          187.0   \n",
       "219611                  Santa Fe  ...        1.0           47.0   \n",
       "328610           Capital Federal  ...        3.0          203.0   \n",
       "525868                   Mendoza  ...        0.0          649.0   \n",
       "\n",
       "        surface_covered     price  currency  price_period  \\\n",
       "489213            412.0  185000.0       USD           NaN   \n",
       "603506            127.0  199000.0       USD           NaN   \n",
       "219611             45.0   78000.0       USD       Mensual   \n",
       "328610            203.0  440000.0       USD       Mensual   \n",
       "525868            412.0  450000.0       USD           NaN   \n",
       "\n",
       "                                                    title  \\\n",
       "489213                             Venta Lote c/ mejoras    \n",
       "603506               Local comercial al frente + vivienda   \n",
       "219611                              Departamento - Centro   \n",
       "328610  Av. Santa Fe y Pueyrredon - Recoleta - Capital...   \n",
       "525868              Espectacular oportunidad de inversión   \n",
       "\n",
       "                                              description    property_type  \\\n",
       "489213  Venta Lote c/ mejoras medidas: 17,32 x 43. Sup...             Lote   \n",
       "603506  Corredor Responsable: Uno Bienes Raices SRL - ...  Local comercial   \n",
       "219611  Scuba 38 - Laprida 1353 , Un dormitorio A estr...     Departamento   \n",
       "328610  Piso de 6 ambientes en excelente zona:<br>- 20...     Departamento   \n",
       "525868  <b>Espectacular oportunidad de inversión</b><b...             Lote   \n",
       "\n",
       "       operation_type  \n",
       "489213          Venta  \n",
       "603506          Venta  \n",
       "219611          Venta  \n",
       "328610          Venta  \n",
       "525868          Venta  \n",
       "\n",
       "[5 rows x 22 columns]"
      ]
     },
     "execution_count": 2,
     "metadata": {},
     "output_type": "execute_result"
    }
   ],
   "source": [
    "data_arg.sample(5)"
   ]
  },
  {
   "cell_type": "code",
   "execution_count": 3,
   "id": "5cf92d39",
   "metadata": {},
   "outputs": [
    {
     "name": "stdout",
     "output_type": "stream",
     "text": [
      "<class 'pandas.core.frame.DataFrame'>\n",
      "RangeIndex: 609185 entries, 0 to 609184\n",
      "Data columns (total 22 columns):\n",
      " #   Column           Non-Null Count   Dtype  \n",
      "---  ------           --------------   -----  \n",
      " 0   localidad        609185 non-null  object \n",
      " 1   id               609185 non-null  object \n",
      " 2   ad_type          609185 non-null  object \n",
      " 3   start_date       609185 non-null  object \n",
      " 4   end_date         609185 non-null  object \n",
      " 5   created_on       609185 non-null  object \n",
      " 6   lat              609185 non-null  float64\n",
      " 7   lon              609185 non-null  float64\n",
      " 8   país             609185 non-null  object \n",
      " 9   provincia        609185 non-null  object \n",
      " 10  rooms            609185 non-null  float64\n",
      " 11  bedrooms         609185 non-null  float64\n",
      " 12  bathrooms        609185 non-null  float64\n",
      " 13  surface_total    609185 non-null  float64\n",
      " 14  surface_covered  609185 non-null  float64\n",
      " 15  price            609185 non-null  float64\n",
      " 16  currency         609185 non-null  object \n",
      " 17  price_period     222062 non-null  object \n",
      " 18  title            609184 non-null  object \n",
      " 19  description      609161 non-null  object \n",
      " 20  property_type    609185 non-null  object \n",
      " 21  operation_type   609185 non-null  object \n",
      "dtypes: float64(8), object(14)\n",
      "memory usage: 102.2+ MB\n"
     ]
    }
   ],
   "source": [
    "data_arg.info()"
   ]
  },
  {
   "cell_type": "markdown",
   "id": "0f596e20",
   "metadata": {},
   "source": [
    "¿Qué variables tenemos?"
   ]
  },
  {
   "cell_type": "code",
   "execution_count": 4,
   "id": "101933ac",
   "metadata": {},
   "outputs": [
    {
     "name": "stdout",
     "output_type": "stream",
     "text": [
      "Index(['localidad', 'id', 'ad_type', 'start_date', 'end_date', 'created_on',\n",
      "       'lat', 'lon', 'país', 'provincia', 'rooms', 'bedrooms', 'bathrooms',\n",
      "       'surface_total', 'surface_covered', 'price', 'currency', 'price_period',\n",
      "       'title', 'description', 'property_type', 'operation_type'],\n",
      "      dtype='object')\n"
     ]
    }
   ],
   "source": [
    "print(data_arg.columns)"
   ]
  },
  {
   "cell_type": "markdown",
   "id": "a9d33177",
   "metadata": {},
   "source": [
    "RECORDAMOS: El objetivo es crear un modelo de machine learning que prediga precios de propiedades en Argentina, solo el tipo de operación venta y en dolares. "
   ]
  },
  {
   "cell_type": "markdown",
   "id": "98b44836",
   "metadata": {},
   "source": [
    "¿Estas variables influyen o impactan en el precio de las propiedades(variable dependiente)?\n",
    "\n",
    "Los posibles features:\n",
    "\n",
    "\n",
    "* localidad\n",
    "* provincia\n",
    "* lat y lon\n",
    "* rooms\n",
    "* bedrooms\n",
    "* bathrooms\n",
    "* surface_total\n",
    "* surface_covered\n",
    "* property_type                  \n",
    "\n",
    "Descartadas:\n",
    "* currency: es el tipo de moneda, que ya lo filtre anteriormente solo propiedades en USD(dolares)\n",
    "* operation_type: porque solo me interesan las propiedad de venta y anteriormente se filtro por el tipo de operación venta."
   ]
  },
  {
   "cell_type": "markdown",
   "id": "4a870f62",
   "metadata": {},
   "source": [
    "¿Los datos estan en el tipo de dato correcto?"
   ]
  },
  {
   "cell_type": "code",
   "execution_count": 5,
   "id": "97a0de88",
   "metadata": {},
   "outputs": [
    {
     "data": {
      "text/plain": [
       "localidad           object\n",
       "id                  object\n",
       "ad_type             object\n",
       "start_date          object\n",
       "end_date            object\n",
       "created_on          object\n",
       "lat                float64\n",
       "lon                float64\n",
       "país                object\n",
       "provincia           object\n",
       "rooms              float64\n",
       "bedrooms           float64\n",
       "bathrooms          float64\n",
       "surface_total      float64\n",
       "surface_covered    float64\n",
       "price              float64\n",
       "currency            object\n",
       "price_period        object\n",
       "title               object\n",
       "description         object\n",
       "property_type       object\n",
       "operation_type      object\n",
       "dtype: object"
      ]
     },
     "execution_count": 5,
     "metadata": {},
     "output_type": "execute_result"
    }
   ],
   "source": [
    "data_arg.dtypes"
   ]
  },
  {
   "cell_type": "markdown",
   "id": "1d7151c5",
   "metadata": {},
   "source": [
    "¿Esos posibles features tienen datos nulos?"
   ]
  },
  {
   "cell_type": "code",
   "execution_count": 6,
   "id": "67f236d4",
   "metadata": {},
   "outputs": [
    {
     "data": {
      "text/plain": [
       "localidad               0\n",
       "id                      0\n",
       "ad_type                 0\n",
       "start_date              0\n",
       "end_date                0\n",
       "created_on              0\n",
       "lat                     0\n",
       "lon                     0\n",
       "país                    0\n",
       "provincia               0\n",
       "rooms                   0\n",
       "bedrooms                0\n",
       "bathrooms               0\n",
       "surface_total           0\n",
       "surface_covered         0\n",
       "price                   0\n",
       "currency                0\n",
       "price_period       387123\n",
       "title                   1\n",
       "description            24\n",
       "property_type           0\n",
       "operation_type          0\n",
       "dtype: int64"
      ]
     },
     "execution_count": 6,
     "metadata": {},
     "output_type": "execute_result"
    }
   ],
   "source": [
    "data_arg.isnull().sum()"
   ]
  },
  {
   "cell_type": "markdown",
   "id": "27ef8ce9",
   "metadata": {},
   "source": [
    "Insight las posibles features:\n",
    "\n",
    "* No contienen datos nulos\n",
    "* La mayoria de datos estan en float, excepto: provincia, localidad, tipo de propiedad, que estan en object"
   ]
  },
  {
   "cell_type": "code",
   "execution_count": 7,
   "id": "72a6ffd7",
   "metadata": {},
   "outputs": [
    {
     "data": {
      "text/html": [
       "<div>\n",
       "<style scoped>\n",
       "    .dataframe tbody tr th:only-of-type {\n",
       "        vertical-align: middle;\n",
       "    }\n",
       "\n",
       "    .dataframe tbody tr th {\n",
       "        vertical-align: top;\n",
       "    }\n",
       "\n",
       "    .dataframe thead th {\n",
       "        text-align: right;\n",
       "    }\n",
       "</style>\n",
       "<table border=\"1\" class=\"dataframe\">\n",
       "  <thead>\n",
       "    <tr style=\"text-align: right;\">\n",
       "      <th></th>\n",
       "      <th>count</th>\n",
       "      <th>mean</th>\n",
       "      <th>std</th>\n",
       "      <th>min</th>\n",
       "      <th>0.1%</th>\n",
       "      <th>9.9%</th>\n",
       "      <th>10%</th>\n",
       "      <th>20%</th>\n",
       "      <th>30%</th>\n",
       "      <th>40%</th>\n",
       "      <th>50%</th>\n",
       "      <th>60%</th>\n",
       "      <th>70%</th>\n",
       "      <th>80%</th>\n",
       "      <th>90%</th>\n",
       "      <th>max</th>\n",
       "    </tr>\n",
       "  </thead>\n",
       "  <tbody>\n",
       "    <tr>\n",
       "      <th>lat</th>\n",
       "      <td>609185.0</td>\n",
       "      <td>-34.6</td>\n",
       "      <td>1.8</td>\n",
       "      <td>-54.8</td>\n",
       "      <td>-42.8</td>\n",
       "      <td>-37.1</td>\n",
       "      <td>-37.1</td>\n",
       "      <td>-34.8</td>\n",
       "      <td>-34.7</td>\n",
       "      <td>-34.6</td>\n",
       "      <td>-34.6</td>\n",
       "      <td>-34.6</td>\n",
       "      <td>-34.5</td>\n",
       "      <td>-34.4</td>\n",
       "      <td>-32.9</td>\n",
       "      <td>-22.0</td>\n",
       "    </tr>\n",
       "    <tr>\n",
       "      <th>lon</th>\n",
       "      <td>609185.0</td>\n",
       "      <td>-59.2</td>\n",
       "      <td>2.3</td>\n",
       "      <td>-72.9</td>\n",
       "      <td>-71.6</td>\n",
       "      <td>-60.9</td>\n",
       "      <td>-60.9</td>\n",
       "      <td>-58.9</td>\n",
       "      <td>-58.7</td>\n",
       "      <td>-58.6</td>\n",
       "      <td>-58.5</td>\n",
       "      <td>-58.4</td>\n",
       "      <td>-58.4</td>\n",
       "      <td>-58.4</td>\n",
       "      <td>-58.0</td>\n",
       "      <td>-53.7</td>\n",
       "    </tr>\n",
       "    <tr>\n",
       "      <th>rooms</th>\n",
       "      <td>609185.0</td>\n",
       "      <td>2.5</td>\n",
       "      <td>1.8</td>\n",
       "      <td>0.0</td>\n",
       "      <td>0.0</td>\n",
       "      <td>0.0</td>\n",
       "      <td>0.0</td>\n",
       "      <td>1.0</td>\n",
       "      <td>1.0</td>\n",
       "      <td>2.0</td>\n",
       "      <td>2.0</td>\n",
       "      <td>3.0</td>\n",
       "      <td>3.0</td>\n",
       "      <td>4.0</td>\n",
       "      <td>5.0</td>\n",
       "      <td>40.0</td>\n",
       "    </tr>\n",
       "    <tr>\n",
       "      <th>bedrooms</th>\n",
       "      <td>609185.0</td>\n",
       "      <td>1.7</td>\n",
       "      <td>1.9</td>\n",
       "      <td>-16.0</td>\n",
       "      <td>0.0</td>\n",
       "      <td>0.0</td>\n",
       "      <td>0.0</td>\n",
       "      <td>0.0</td>\n",
       "      <td>1.0</td>\n",
       "      <td>1.0</td>\n",
       "      <td>1.0</td>\n",
       "      <td>2.0</td>\n",
       "      <td>2.0</td>\n",
       "      <td>3.0</td>\n",
       "      <td>3.0</td>\n",
       "      <td>900.0</td>\n",
       "    </tr>\n",
       "    <tr>\n",
       "      <th>bathrooms</th>\n",
       "      <td>609185.0</td>\n",
       "      <td>1.4</td>\n",
       "      <td>1.1</td>\n",
       "      <td>0.0</td>\n",
       "      <td>0.0</td>\n",
       "      <td>0.0</td>\n",
       "      <td>0.0</td>\n",
       "      <td>1.0</td>\n",
       "      <td>1.0</td>\n",
       "      <td>1.0</td>\n",
       "      <td>1.0</td>\n",
       "      <td>1.0</td>\n",
       "      <td>2.0</td>\n",
       "      <td>2.0</td>\n",
       "      <td>3.0</td>\n",
       "      <td>20.0</td>\n",
       "    </tr>\n",
       "    <tr>\n",
       "      <th>surface_total</th>\n",
       "      <td>609185.0</td>\n",
       "      <td>267.6</td>\n",
       "      <td>1325.1</td>\n",
       "      <td>10.0</td>\n",
       "      <td>12.0</td>\n",
       "      <td>48.0</td>\n",
       "      <td>48.0</td>\n",
       "      <td>60.0</td>\n",
       "      <td>60.0</td>\n",
       "      <td>70.0</td>\n",
       "      <td>100.0</td>\n",
       "      <td>200.0</td>\n",
       "      <td>240.0</td>\n",
       "      <td>297.0</td>\n",
       "      <td>649.0</td>\n",
       "      <td>100000.0</td>\n",
       "    </tr>\n",
       "    <tr>\n",
       "      <th>surface_covered</th>\n",
       "      <td>609185.0</td>\n",
       "      <td>1201.1</td>\n",
       "      <td>768980.2</td>\n",
       "      <td>1.0</td>\n",
       "      <td>2.0</td>\n",
       "      <td>42.0</td>\n",
       "      <td>42.0</td>\n",
       "      <td>54.0</td>\n",
       "      <td>54.0</td>\n",
       "      <td>62.0</td>\n",
       "      <td>84.0</td>\n",
       "      <td>150.0</td>\n",
       "      <td>171.0</td>\n",
       "      <td>230.0</td>\n",
       "      <td>412.0</td>\n",
       "      <td>600000000.0</td>\n",
       "    </tr>\n",
       "  </tbody>\n",
       "</table>\n",
       "</div>"
      ],
      "text/plain": [
       "                    count    mean       std   min  0.1%  9.9%   10%   20%  \\\n",
       "lat              609185.0   -34.6       1.8 -54.8 -42.8 -37.1 -37.1 -34.8   \n",
       "lon              609185.0   -59.2       2.3 -72.9 -71.6 -60.9 -60.9 -58.9   \n",
       "rooms            609185.0     2.5       1.8   0.0   0.0   0.0   0.0   1.0   \n",
       "bedrooms         609185.0     1.7       1.9 -16.0   0.0   0.0   0.0   0.0   \n",
       "bathrooms        609185.0     1.4       1.1   0.0   0.0   0.0   0.0   1.0   \n",
       "surface_total    609185.0   267.6    1325.1  10.0  12.0  48.0  48.0  60.0   \n",
       "surface_covered  609185.0  1201.1  768980.2   1.0   2.0  42.0  42.0  54.0   \n",
       "\n",
       "                  30%   40%    50%    60%    70%    80%    90%          max  \n",
       "lat             -34.7 -34.6  -34.6  -34.6  -34.5  -34.4  -32.9        -22.0  \n",
       "lon             -58.7 -58.6  -58.5  -58.4  -58.4  -58.4  -58.0        -53.7  \n",
       "rooms             1.0   2.0    2.0    3.0    3.0    4.0    5.0         40.0  \n",
       "bedrooms          1.0   1.0    1.0    2.0    2.0    3.0    3.0        900.0  \n",
       "bathrooms         1.0   1.0    1.0    1.0    2.0    2.0    3.0         20.0  \n",
       "surface_total    60.0  70.0  100.0  200.0  240.0  297.0  649.0     100000.0  \n",
       "surface_covered  54.0  62.0   84.0  150.0  171.0  230.0  412.0  600000000.0  "
      ]
     },
     "execution_count": 7,
     "metadata": {},
     "output_type": "execute_result"
    }
   ],
   "source": [
    "data_arg[[\"lat\", \"lon\", \"rooms\", \"bedrooms\", \"bathrooms\", \"surface_total\", \"surface_covered\"]].describe(percentiles=[i/10 for i in list(range(1, 10))+[0.01 ,0.99]]). round(1). T\n"
   ]
  },
  {
   "cell_type": "markdown",
   "id": "3802999d",
   "metadata": {},
   "source": [
    "Insight:\n",
    "\n",
    "* Lat y lon tienen valores razonables para propiedades en Argentina.\n",
    "\n",
    "* rooms: el maximo 40 --> parece outlier\n",
    "\n",
    "* bedrooms: el min es -16 es un error, el max 900 tambien parece un error\n",
    "\n",
    "* bathrooms: maximo 20 puede ser posible, pero poco común. Revisar si es outlier\n",
    "\n",
    "* superficie total: \n",
    "\n",
    " la mediana es 267 m2\n",
    "\n",
    "el max 100.000 m2 probablemente sea un error\n",
    "\n",
    "* superficie cubierta: \n",
    "\n",
    "la media: 1201 es raro, porque es más grande que la mediana de superficie total\n",
    "\n",
    "el maximo: 600.000.000. Es un error "
   ]
  },
  {
   "cell_type": "code",
   "execution_count": 8,
   "id": "f5bb2c5d",
   "metadata": {},
   "outputs": [],
   "source": [
    "#eliminar los valore negativos de bedrooms\n",
    "data_arg = data_arg[data_arg['bedrooms']>= 0]"
   ]
  },
  {
   "cell_type": "markdown",
   "id": "ea8a3e85",
   "metadata": {},
   "source": [
    "## Distribución de variable target: price"
   ]
  },
  {
   "cell_type": "markdown",
   "id": "11709554",
   "metadata": {},
   "source": [
    "¿Cómo esta distribuido el precio de las propiedades?"
   ]
  },
  {
   "cell_type": "code",
   "execution_count": 9,
   "id": "e3790d3b",
   "metadata": {},
   "outputs": [
    {
     "data": {
      "text/plain": [
       "count       609183.0\n",
       "mean        223921.7\n",
       "std         468028.4\n",
       "min              0.0\n",
       "25%          75000.0\n",
       "50%         130000.0\n",
       "75%         240000.0\n",
       "max      111111111.0\n",
       "Name: price, dtype: float64"
      ]
     },
     "execution_count": 9,
     "metadata": {},
     "output_type": "execute_result"
    }
   ],
   "source": [
    "data_arg.price.describe().round(1)"
   ]
  },
  {
   "cell_type": "markdown",
   "id": "468e7733",
   "metadata": {},
   "source": [
    "Insight:\n",
    "\n",
    "El precio promedio es 223.921, pero hay precios de propiedades que cuestan 0 y otras muchisimo más 111 millones, que son outiliers. Por lo que la desviación estándar es muy alta: 468.028, porque que nos dice que hay una gran diferencia de precios."
   ]
  },
  {
   "cell_type": "markdown",
   "id": "0d4de906",
   "metadata": {},
   "source": [
    "Se realiza un histograma y log-histograma para ver la distribución de precio. "
   ]
  },
  {
   "cell_type": "code",
   "execution_count": 10,
   "id": "908eb6b0",
   "metadata": {},
   "outputs": [
    {
     "data": {
      "image/png": "[encoded data removed]",
      "text/plain": [
       "<Figure size 1000x500 with 2 Axes>"
      ]
     },
     "metadata": {},
     "output_type": "display_data"
    }
   ],
   "source": [
    "import seaborn as sns\n",
    "import numpy as np\n",
    "import matplotlib.pyplot as plt\n",
    "\n",
    "%matplotlib inline\n",
    "\n",
    "sns.set_style(\"whitegrid\")\n",
    "\n",
    "plt.figure(figsize=(10, 5))\n",
    "\n",
    "# Histograma original\n",
    "plt.subplot(1, 2, 1)\n",
    "sns.histplot(data_arg['price'], bins=50, kde=True)\n",
    "plt.title('Original')\n",
    "\n",
    "# Histograma con log1p\n",
    "plt.subplot(1, 2, 2)\n",
    "sns.histplot(np.log1p(data_arg['price']), bins=50, kde=True)\n",
    "plt.title('Log transformed')\n",
    "\n",
    "plt.tight_layout()"
   ]
  },
  {
   "cell_type": "markdown",
   "id": "691ea1af",
   "metadata": {},
   "source": [
    "Insight distribución original:\n",
    "\n",
    "* Hay un **sesgo positivo** porque hay una alta concentración de precios bajos, y valores extremadamente altos (outliers) que estiran la escala hacia la derecha.\n",
    "\n"
   ]
  },
  {
   "cell_type": "markdown",
   "id": "22cedbdf",
   "metadata": {},
   "source": [
    "¿Cómo tratar los outliers?"
   ]
  },
  {
   "cell_type": "code",
   "execution_count": 11,
   "id": "7bbe88bb",
   "metadata": {},
   "outputs": [
    {
     "data": {
      "text/plain": [
       "(129, 22)"
      ]
     },
     "execution_count": 11,
     "metadata": {},
     "output_type": "execute_result"
    }
   ],
   "source": [
    "data_arg[data_arg['price'] == 0].shape"
   ]
  },
  {
   "cell_type": "code",
   "execution_count": 12,
   "id": "f7c1a6e8",
   "metadata": {},
   "outputs": [
    {
     "data": {
      "text/plain": [
       "(3347, 22)"
      ]
     },
     "execution_count": 12,
     "metadata": {},
     "output_type": "execute_result"
    }
   ],
   "source": [
    "#contar los valores extremos que tengo\n",
    "data_arg[data_arg['price'] > 2_000_000].shape"
   ]
  },
  {
   "cell_type": "markdown",
   "id": "488899a1",
   "metadata": {},
   "source": [
    "Insight:\n",
    "\n",
    "Valores extremos:\n",
    "\n",
    "* Hay 3.347 propiedades con price > 2.000.000 (≈ 0.5% del dataset).\n",
    "\n",
    "* Hay 129 propiedades con price = 0, que probablemente son errores o valores faltantes codificados como cero."
   ]
  },
  {
   "cell_type": "code",
   "execution_count": 13,
   "id": "be97dfb1",
   "metadata": {},
   "outputs": [],
   "source": [
    "#se elimina las propiedades ==0 porque no son una propiedad real\n",
    "data_arg = data_arg[data_arg['price'] > 0]\n"
   ]
  },
  {
   "cell_type": "code",
   "execution_count": 14,
   "id": "04dfea8d",
   "metadata": {},
   "outputs": [
    {
     "data": {
      "text/plain": [
       "np.float64(1500000.0)"
      ]
     },
     "execution_count": 14,
     "metadata": {},
     "output_type": "execute_result"
    }
   ],
   "source": [
    "data_arg['price'].quantile(0.99)"
   ]
  },
  {
   "cell_type": "code",
   "execution_count": 15,
   "id": "8bc289d5",
   "metadata": {},
   "outputs": [
    {
     "data": {
      "text/plain": [
       "np.float64(2200000.0)"
      ]
     },
     "execution_count": 15,
     "metadata": {},
     "output_type": "execute_result"
    }
   ],
   "source": [
    "data_arg['price'].quantile(0.995)"
   ]
  },
  {
   "cell_type": "code",
   "execution_count": 16,
   "id": "5c306e78",
   "metadata": {},
   "outputs": [],
   "source": [
    "import numpy as np\n",
    "#  Capear outliers al percentil 99.5\n",
    "cap_value = data_arg['price'].quantile(0.995)\n",
    "data_arg['price_capped'] = np.where(data_arg['price'] > cap_value, cap_value, data_arg['price'])\n",
    "\n",
    "data_arg['log_price']= np.log(data_arg['price_capped'])"
   ]
  },
  {
   "cell_type": "code",
   "execution_count": 17,
   "id": "42d9f664",
   "metadata": {},
   "outputs": [
    {
     "data": {
      "text/plain": [
       "count    609054.0\n",
       "mean         11.8\n",
       "std           1.0\n",
       "min           0.0\n",
       "25%          11.2\n",
       "50%          11.8\n",
       "75%          12.4\n",
       "max          14.6\n",
       "Name: log_price, dtype: float64"
      ]
     },
     "execution_count": 17,
     "metadata": {},
     "output_type": "execute_result"
    }
   ],
   "source": [
    "data_arg.log_price.describe().round(1)"
   ]
  },
  {
   "cell_type": "code",
   "execution_count": 18,
   "id": "a40f8e9a",
   "metadata": {},
   "outputs": [
    {
     "data": {
      "text/plain": [
       "<Axes: xlabel='log_price', ylabel='Count'>"
      ]
     },
     "execution_count": 18,
     "metadata": {},
     "output_type": "execute_result"
    },
    {
     "data": {
      "image/png": "[encoded data removed]",
      "text/plain": [
       "<Figure size 1000x500 with 2 Axes>"
      ]
     },
     "metadata": {},
     "output_type": "display_data"
    }
   ],
   "source": [
    "import seaborn as sns\n",
    "import numpy as np\n",
    "import matplotlib.pyplot as plt\n",
    "\n",
    "%matplotlib inline\n",
    "\n",
    "sns.set_style(\"whitegrid\")\n",
    "\n",
    "plt.figure(figsize=(10, 5))\n",
    "\n",
    "# Histograma original\n",
    "plt.subplot(1, 2, 1)\n",
    "sns.histplot(data_arg['price'], bins=50, kde=True)\n",
    "plt.title('Distribución original de price')\n",
    "plt.xlabel('price')\n",
    "plt.xlim(0, data_arg['price'].quantile(0.99))  # para evitar aplastamiento por outliers\n",
    "\n",
    "# Histograma log-transformado\n",
    "plt.subplot(1, 2, 2)\n",
    "sns.histplot(data_arg['log_price'], bins=50, kde=True, color='green')\n"
   ]
  },
  {
   "cell_type": "markdown",
   "id": "a1056ca4",
   "metadata": {},
   "source": [
    "Resultado final: log_price se convierte en nuestra variable target ideal para el análisis y el modelado."
   ]
  },
  {
   "cell_type": "markdown",
   "id": "6a4f31c7",
   "metadata": {},
   "source": [
    "## Distribución: rooms,bedrooms, bathrooms"
   ]
  },
  {
   "cell_type": "code",
   "execution_count": 21,
   "id": "0dbe3523",
   "metadata": {},
   "outputs": [
    {
     "data": {
      "text/html": [
       "<div>\n",
       "<style scoped>\n",
       "    .dataframe tbody tr th:only-of-type {\n",
       "        vertical-align: middle;\n",
       "    }\n",
       "\n",
       "    .dataframe tbody tr th {\n",
       "        vertical-align: top;\n",
       "    }\n",
       "\n",
       "    .dataframe thead th {\n",
       "        text-align: right;\n",
       "    }\n",
       "</style>\n",
       "<table border=\"1\" class=\"dataframe\">\n",
       "  <thead>\n",
       "    <tr style=\"text-align: right;\">\n",
       "      <th></th>\n",
       "      <th>rooms</th>\n",
       "      <th>bedrooms</th>\n",
       "      <th>bathrooms</th>\n",
       "      <th>surface_total</th>\n",
       "      <th>surface_covered</th>\n",
       "    </tr>\n",
       "  </thead>\n",
       "  <tbody>\n",
       "    <tr>\n",
       "      <th>count</th>\n",
       "      <td>609054.0</td>\n",
       "      <td>609054.0</td>\n",
       "      <td>609054.0</td>\n",
       "      <td>609054.0</td>\n",
       "      <td>609054.0</td>\n",
       "    </tr>\n",
       "    <tr>\n",
       "      <th>mean</th>\n",
       "      <td>2.5</td>\n",
       "      <td>1.7</td>\n",
       "      <td>1.4</td>\n",
       "      <td>267.5</td>\n",
       "      <td>1201.3</td>\n",
       "    </tr>\n",
       "    <tr>\n",
       "      <th>std</th>\n",
       "      <td>1.8</td>\n",
       "      <td>1.9</td>\n",
       "      <td>1.1</td>\n",
       "      <td>1325.2</td>\n",
       "      <td>769062.9</td>\n",
       "    </tr>\n",
       "    <tr>\n",
       "      <th>min</th>\n",
       "      <td>0.0</td>\n",
       "      <td>0.0</td>\n",
       "      <td>0.0</td>\n",
       "      <td>10.0</td>\n",
       "      <td>1.0</td>\n",
       "    </tr>\n",
       "    <tr>\n",
       "      <th>25%</th>\n",
       "      <td>1.0</td>\n",
       "      <td>1.0</td>\n",
       "      <td>1.0</td>\n",
       "      <td>60.0</td>\n",
       "      <td>54.0</td>\n",
       "    </tr>\n",
       "    <tr>\n",
       "      <th>50%</th>\n",
       "      <td>2.0</td>\n",
       "      <td>1.0</td>\n",
       "      <td>1.0</td>\n",
       "      <td>100.0</td>\n",
       "      <td>84.0</td>\n",
       "    </tr>\n",
       "    <tr>\n",
       "      <th>75%</th>\n",
       "      <td>4.0</td>\n",
       "      <td>3.0</td>\n",
       "      <td>2.0</td>\n",
       "      <td>240.0</td>\n",
       "      <td>171.0</td>\n",
       "    </tr>\n",
       "    <tr>\n",
       "      <th>max</th>\n",
       "      <td>40.0</td>\n",
       "      <td>900.0</td>\n",
       "      <td>20.0</td>\n",
       "      <td>100000.0</td>\n",
       "      <td>600000000.0</td>\n",
       "    </tr>\n",
       "  </tbody>\n",
       "</table>\n",
       "</div>"
      ],
      "text/plain": [
       "          rooms  bedrooms  bathrooms  surface_total  surface_covered\n",
       "count  609054.0  609054.0   609054.0       609054.0         609054.0\n",
       "mean        2.5       1.7        1.4          267.5           1201.3\n",
       "std         1.8       1.9        1.1         1325.2         769062.9\n",
       "min         0.0       0.0        0.0           10.0              1.0\n",
       "25%         1.0       1.0        1.0           60.0             54.0\n",
       "50%         2.0       1.0        1.0          100.0             84.0\n",
       "75%         4.0       3.0        2.0          240.0            171.0\n",
       "max        40.0     900.0       20.0       100000.0      600000000.0"
      ]
     },
     "execution_count": 21,
     "metadata": {},
     "output_type": "execute_result"
    }
   ],
   "source": [
    "data_arg[['rooms', 'bedrooms', 'bathrooms', 'surface_total', 'surface_covered']].describe().round(1)\n"
   ]
  },
  {
   "cell_type": "markdown",
   "id": "509c0b1a",
   "metadata": {},
   "source": [
    "Valores extremos:\n",
    "\n",
    "*Rooms*\n",
    "* Max -->40. Probablemente sea un outlier\n",
    "\n",
    "*Bedrooms*\n",
    "* Max -->900. Es un valor outlier\n",
    "\n",
    "*Bathrooms*\n",
    "* Max -->20. Es un valor inusual\n",
    "\n",
    "*Surface_total*\n",
    "* std: 1325.2 es muy alta con respecto al promedio que es 267.5. Lo que indica que hay propiedades extremadamente grandes en comparación con la media.\n",
    "\n",
    "* Max:  100,000 m², lo que es una superficie extremadamente grande, y podría reflejar propiedades comerciales o grandes terrenos.\n",
    "\n",
    "*Surface_covered*\n",
    "\n",
    "* std: 769062.9 refleja una gran variabilidad con respecto a la media.\n",
    "\n",
    "* Max: 600.000.000 es un valor extremadamente alto y probablemente sea un error en la carga de datos o propiedades expecionales(terrenos muy grandes)"
   ]
  },
  {
   "cell_type": "markdown",
   "id": "74db721d",
   "metadata": {},
   "source": [
    "¿El precio aumenta con más habitaciones, baños, dormitorios?"
   ]
  },
  {
   "cell_type": "code",
   "execution_count": 22,
   "metadata": {},
   "outputs": [],
   "source": [
    "import numpy as np"
   ]
  },
  {
   "cell_type": "code",
   "execution_count": 23,
   "metadata": {},
   "outputs": [],
   "source": [
    "data_arg['log_price'] = np.log1p(data_arg['price'])\n"
   ]
  },
  {
   "cell_type": "code",
   "execution_count": 24,
   "metadata": {},
   "outputs": [
    {
     "name": "stdout",
     "output_type": "stream",
     "text": [
      "log_price          1.000000\n",
      "bathrooms          0.568389\n",
      "bedrooms           0.336809\n",
      "surface_total      0.025565\n",
      "surface_covered    0.002582\n",
      "Name: log_price, dtype: float64\n"
     ]
    }
   ],
   "source": [
    "# Seleccionar variables de interés\n",
    "vars_of_interest = ['log_price', 'surface_total', 'surface_covered', 'bedrooms', 'bathrooms']\n",
    "\n",
    "# Correlación\n",
    "correlation_matrix = data_arg[vars_of_interest].corr()\n",
    "\n",
    "# Mostrar correlación con log_price\n",
    "print(correlation_matrix['log_price'].sort_values(ascending=False))\n"
   ]
  },
  {
   "cell_type": "markdown",
   "id": "d92f8ebf",
   "metadata": {},
   "source": [
    "## Distribución de superficie"
   ]
  }
 ],
 "metadata": {
  "kernelspec": {
   "display_name": "Python 3",
   "language": "python",
   "name": "python3"
  },
  "language_info": {
   "codemirror_mode": {
    "name": "ipython",
    "version": 3
   },
   "file_extension": ".py",
   "mimetype": "text/x-python",
   "name": "python",
   "nbconvert_exporter": "python",
   "pygments_lexer": "ipython3",
   "version": "3.13.1"
  }
 },
 "nbformat": 4,
 "nbformat_minor": 5
}
